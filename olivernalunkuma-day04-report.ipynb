{
 "cells": [
  {
   "cell_type": "markdown",
   "id": "76b34985",
   "metadata": {},
   "source": [
    "## Strings and files"
   ]
  },
  {
   "cell_type": "code",
   "execution_count": 4,
   "id": "a397a04d",
   "metadata": {},
   "outputs": [],
   "source": [
    "strg_1=\"Will you be at the meeting tonight?\"\n",
    "strg_2='\"Yes\", she replies.'\n"
   ]
  },
  {
   "cell_type": "code",
   "execution_count": 2,
   "id": "a307dd46",
   "metadata": {},
   "outputs": [
    {
     "name": "stdout",
     "output_type": "stream",
     "text": [
      "Will you be at the meeting tonight?\n"
     ]
    }
   ],
   "source": [
    "print(strg_1)"
   ]
  },
  {
   "cell_type": "code",
   "execution_count": 5,
   "id": "c4bb3eb0",
   "metadata": {},
   "outputs": [
    {
     "name": "stdout",
     "output_type": "stream",
     "text": [
      "\"Yes\", she replies.\n"
     ]
    }
   ],
   "source": [
    "print(strg_2)"
   ]
  },
  {
   "cell_type": "markdown",
   "id": "5221be7f",
   "metadata": {},
   "source": [
    "##Indexing"
   ]
  },
  {
   "cell_type": "code",
   "execution_count": 6,
   "id": "c7919d66",
   "metadata": {},
   "outputs": [
    {
     "data": {
      "text/plain": [
       "'W'"
      ]
     },
     "execution_count": 6,
     "metadata": {},
     "output_type": "execute_result"
    }
   ],
   "source": [
    "strg_1[0]"
   ]
  },
  {
   "cell_type": "code",
   "execution_count": 8,
   "id": "5689e977",
   "metadata": {},
   "outputs": [
    {
     "data": {
      "text/plain": [
       "'l'"
      ]
     },
     "execution_count": 8,
     "metadata": {},
     "output_type": "execute_result"
    }
   ],
   "source": [
    "strg_1[2]"
   ]
  },
  {
   "cell_type": "code",
   "execution_count": 10,
   "id": "38c85216",
   "metadata": {},
   "outputs": [
    {
     "name": "stdout",
     "output_type": "stream",
     "text": [
      "Will you be at the meeting tonight?\n",
      "The second character in strg_1: i\n"
     ]
    }
   ],
   "source": [
    "print(strg_1)\n",
    "print(\"The second character in strg_1:\",strg_1[1])"
   ]
  },
  {
   "cell_type": "code",
   "execution_count": 11,
   "id": "c9feccca",
   "metadata": {},
   "outputs": [
    {
     "name": "stdout",
     "output_type": "stream",
     "text": [
      "Will you be at the meeting tonight?\n",
      "The last character in strg_1: ?\n"
     ]
    }
   ],
   "source": [
    "print(strg_1)\n",
    "print(\"The last character in strg_1:\",strg_1[-1])"
   ]
  },
  {
   "cell_type": "markdown",
   "id": "3691514a",
   "metadata": {},
   "source": [
    "## Slicing"
   ]
  },
  {
   "cell_type": "code",
   "execution_count": 12,
   "id": "97b92b07",
   "metadata": {},
   "outputs": [
    {
     "data": {
      "text/plain": [
       "'Will you be at the meeting tonight?'"
      ]
     },
     "execution_count": 12,
     "metadata": {},
     "output_type": "execute_result"
    }
   ],
   "source": [
    "strg_1"
   ]
  },
  {
   "cell_type": "raw",
   "id": "898f9ca2",
   "metadata": {},
   "source": [
    "strg_1[0:8:2]"
   ]
  },
  {
   "cell_type": "code",
   "execution_count": 17,
   "id": "f158a7f3",
   "metadata": {},
   "outputs": [
    {
     "data": {
      "text/plain": [
       "'ertyui'"
      ]
     },
     "execution_count": 17,
     "metadata": {},
     "output_type": "execute_result"
    }
   ],
   "source": [
    "strg_3 = \"qwertyuioasdfghj\"\n",
    "strg_3[2:8:]\n"
   ]
  },
  {
   "cell_type": "code",
   "execution_count": 18,
   "id": "bcde3b7e",
   "metadata": {},
   "outputs": [
    {
     "data": {
      "text/plain": [
       "'qwertyuioasdfghj'"
      ]
     },
     "execution_count": 18,
     "metadata": {},
     "output_type": "execute_result"
    }
   ],
   "source": [
    "strg_3[::]"
   ]
  },
  {
   "cell_type": "code",
   "execution_count": 19,
   "id": "56b6f26b",
   "metadata": {},
   "outputs": [
    {
     "data": {
      "text/plain": [
       "'qwertyuioasdfghj'"
      ]
     },
     "execution_count": 19,
     "metadata": {},
     "output_type": "execute_result"
    }
   ],
   "source": [
    "strg_3[::]"
   ]
  },
  {
   "cell_type": "code",
   "execution_count": 20,
   "id": "0736ee19",
   "metadata": {},
   "outputs": [
    {
     "data": {
      "text/plain": [
       "'qetu'"
      ]
     },
     "execution_count": 20,
     "metadata": {},
     "output_type": "execute_result"
    }
   ],
   "source": [
    "strg_3[0:8:2]"
   ]
  },
  {
   "cell_type": "code",
   "execution_count": 22,
   "id": "b6f5e30f",
   "metadata": {},
   "outputs": [
    {
     "data": {
      "text/plain": [
       "'qetuosfh'"
      ]
     },
     "execution_count": 22,
     "metadata": {},
     "output_type": "execute_result"
    }
   ],
   "source": [
    "strg_3[::2]"
   ]
  },
  {
   "cell_type": "code",
   "execution_count": 23,
   "id": "0ee914cd",
   "metadata": {},
   "outputs": [
    {
     "data": {
      "text/plain": [
       "'oasdfghj'"
      ]
     },
     "execution_count": 23,
     "metadata": {},
     "output_type": "execute_result"
    }
   ],
   "source": [
    "strg_3[8::]"
   ]
  },
  {
   "cell_type": "code",
   "execution_count": 25,
   "id": "1800ef35",
   "metadata": {},
   "outputs": [
    {
     "data": {
      "text/plain": [
       "16"
      ]
     },
     "execution_count": 25,
     "metadata": {},
     "output_type": "execute_result"
    }
   ],
   "source": [
    "len(strg_3)"
   ]
  },
  {
   "cell_type": "markdown",
   "id": "3c48a8e5",
   "metadata": {},
   "source": [
    "## Concatenation"
   ]
  },
  {
   "cell_type": "code",
   "execution_count": 34,
   "id": "fdc28a18",
   "metadata": {},
   "outputs": [
    {
     "name": "stdout",
     "output_type": "stream",
     "text": [
      "Hello ,World\n"
     ]
    }
   ],
   "source": [
    "my1 = \"Hello ,\"\n",
    "my2 = \"World\"\n",
    "sum12 = my1 + my2\n",
    "sum123 = my2 + my1\n",
    "print(sum12)"
   ]
  },
  {
   "cell_type": "code",
   "execution_count": 35,
   "id": "e6e65f2c",
   "metadata": {},
   "outputs": [
    {
     "name": "stdout",
     "output_type": "stream",
     "text": [
      "WorldHello ,\n"
     ]
    }
   ],
   "source": [
    "sum123 = my2 + my1\n",
    "print(sum123)"
   ]
  },
  {
   "cell_type": "code",
   "execution_count": 36,
   "id": "6bdf2532",
   "metadata": {},
   "outputs": [
    {
     "name": "stdout",
     "output_type": "stream",
     "text": [
      "Hello ,Hello ,\n"
     ]
    }
   ],
   "source": [
    "print(2*my1)"
   ]
  },
  {
   "cell_type": "code",
   "execution_count": 37,
   "id": "2e680827",
   "metadata": {},
   "outputs": [
    {
     "ename": "TypeError",
     "evalue": "can't multiply sequence by non-int of type 'float'",
     "output_type": "error",
     "traceback": [
      "\u001b[0;31m---------------------------------------------------------------------------\u001b[0m",
      "\u001b[0;31mTypeError\u001b[0m                                 Traceback (most recent call last)",
      "\u001b[0;32m/tmp/ipykernel_25367/2783231775.py\u001b[0m in \u001b[0;36m<module>\u001b[0;34m\u001b[0m\n\u001b[0;32m----> 1\u001b[0;31m \u001b[0mprint\u001b[0m\u001b[0;34m(\u001b[0m\u001b[0;36m2.0\u001b[0m\u001b[0;34m*\u001b[0m\u001b[0mmy2\u001b[0m\u001b[0;34m)\u001b[0m\u001b[0;34m\u001b[0m\u001b[0;34m\u001b[0m\u001b[0m\n\u001b[0m",
      "\u001b[0;31mTypeError\u001b[0m: can't multiply sequence by non-int of type 'float'"
     ]
    }
   ],
   "source": [
    "print(2.0*my2)"
   ]
  },
  {
   "cell_type": "markdown",
   "id": "e97c4124",
   "metadata": {},
   "source": [
    "## my work"
   ]
  },
  {
   "cell_type": "code",
   "execution_count": 47,
   "id": "55b5b527",
   "metadata": {},
   "outputs": [],
   "source": [
    "new=\"welcome to uganda, the pearl of africa\"\n"
   ]
  },
  {
   "cell_type": "code",
   "execution_count": 49,
   "id": "0ce89322",
   "metadata": {},
   "outputs": [
    {
     "data": {
      "text/plain": [
       "5"
      ]
     },
     "execution_count": 49,
     "metadata": {},
     "output_type": "execute_result"
    }
   ],
   "source": [
    "new.count(\"a\")"
   ]
  },
  {
   "cell_type": "code",
   "execution_count": 48,
   "id": "14ef95d9",
   "metadata": {},
   "outputs": [
    {
     "data": {
      "text/plain": [
       "'Welcome to uganda, the pearl of africa'"
      ]
     },
     "execution_count": 48,
     "metadata": {},
     "output_type": "execute_result"
    }
   ],
   "source": [
    "new.capitalize()"
   ]
  },
  {
   "cell_type": "code",
   "execution_count": 51,
   "id": "5ec1f619",
   "metadata": {},
   "outputs": [
    {
     "data": {
      "text/plain": [
       "0"
      ]
     },
     "execution_count": 51,
     "metadata": {},
     "output_type": "execute_result"
    }
   ],
   "source": [
    "new.index(\"w\")"
   ]
  },
  {
   "cell_type": "code",
   "execution_count": 52,
   "id": "13cc72b2",
   "metadata": {},
   "outputs": [
    {
     "data": {
      "text/plain": [
       "23"
      ]
     },
     "execution_count": 52,
     "metadata": {},
     "output_type": "execute_result"
    }
   ],
   "source": [
    "new.index(\"p\")"
   ]
  },
  {
   "cell_type": "code",
   "execution_count": 54,
   "id": "ee2eb755",
   "metadata": {},
   "outputs": [
    {
     "data": {
      "text/plain": [
       "13"
      ]
     },
     "execution_count": 54,
     "metadata": {},
     "output_type": "execute_result"
    }
   ],
   "source": [
    "new.index(\"a\")"
   ]
  },
  {
   "cell_type": "code",
   "execution_count": 62,
   "id": "ea380cdd",
   "metadata": {},
   "outputs": [
    {
     "data": {
      "text/plain": [
       "'welcome to uganda, the pearl of africa'"
      ]
     },
     "execution_count": 62,
     "metadata": {},
     "output_type": "execute_result"
    }
   ],
   "source": [
    "new.lstrip()"
   ]
  },
  {
   "cell_type": "code",
   "execution_count": 63,
   "id": "19bdfa5b",
   "metadata": {},
   "outputs": [
    {
     "data": {
      "text/plain": [
       "'welcome to uganda, the pearl of africa'"
      ]
     },
     "execution_count": 63,
     "metadata": {},
     "output_type": "execute_result"
    }
   ],
   "source": [
    "new.rstrip()"
   ]
  },
  {
   "cell_type": "code",
   "execution_count": 64,
   "id": "c79e418b",
   "metadata": {},
   "outputs": [
    {
     "data": {
      "text/plain": [
       "'Welcome To Uganda, The Pearl Of Africa'"
      ]
     },
     "execution_count": 64,
     "metadata": {},
     "output_type": "execute_result"
    }
   ],
   "source": [
    "new.title()"
   ]
  },
  {
   "cell_type": "code",
   "execution_count": 77,
   "id": "bc3988fe",
   "metadata": {},
   "outputs": [
    {
     "data": {
      "text/plain": [
       "'WELCOME TO UGANDA, THE PEARL OF AFRICA'"
      ]
     },
     "execution_count": 77,
     "metadata": {},
     "output_type": "execute_result"
    }
   ],
   "source": [
    "new2=new.swapcase()\n",
    "new2"
   ]
  },
  {
   "cell_type": "code",
   "execution_count": 68,
   "id": "ded2fd40",
   "metadata": {},
   "outputs": [
    {
     "data": {
      "text/plain": [
       "'welcome to uganda, the heart of africa'"
      ]
     },
     "execution_count": 68,
     "metadata": {},
     "output_type": "execute_result"
    }
   ],
   "source": [
    "new.replace(\"pearl\", \"heart\")"
   ]
  },
  {
   "cell_type": "code",
   "execution_count": 78,
   "id": "b4141e03",
   "metadata": {},
   "outputs": [
    {
     "data": {
      "text/plain": [
       "False"
      ]
     },
     "execution_count": 78,
     "metadata": {},
     "output_type": "execute_result"
    }
   ],
   "source": [
    "new2.islower()"
   ]
  },
  {
   "cell_type": "code",
   "execution_count": 79,
   "id": "18fb9de4",
   "metadata": {},
   "outputs": [
    {
     "data": {
      "text/plain": [
       "'welcome to uganda, the pearl of africa'"
      ]
     },
     "execution_count": 79,
     "metadata": {},
     "output_type": "execute_result"
    }
   ],
   "source": [
    "new2.casefold()"
   ]
  },
  {
   "cell_type": "code",
   "execution_count": 80,
   "id": "93b5b0ce",
   "metadata": {},
   "outputs": [
    {
     "data": {
      "text/plain": [
       "'welcome to uganda, the pearl of africa'"
      ]
     },
     "execution_count": 80,
     "metadata": {},
     "output_type": "execute_result"
    }
   ],
   "source": [
    "new.casefold()"
   ]
  },
  {
   "cell_type": "code",
   "execution_count": 89,
   "id": "cf2ecc65",
   "metadata": {},
   "outputs": [
    {
     "data": {
      "text/plain": [
       "30"
      ]
     },
     "execution_count": 89,
     "metadata": {},
     "output_type": "execute_result"
    }
   ],
   "source": [
    "new4=int(\"0785574222\")\n",
    "new4.bit_length()"
   ]
  },
  {
   "cell_type": "code",
   "execution_count": 110,
   "id": "7a978f54",
   "metadata": {},
   "outputs": [
    {
     "data": {
      "text/plain": [
       "True"
      ]
     },
     "execution_count": 110,
     "metadata": {},
     "output_type": "execute_result"
    }
   ],
   "source": [
    "new5=\"hmymother\"\n",
    "new5.isalpha()"
   ]
  },
  {
   "cell_type": "code",
   "execution_count": 112,
   "id": "13e67202",
   "metadata": {},
   "outputs": [
    {
     "name": "stdout",
     "output_type": "stream",
     "text": [
      "command_mode.png\r\n",
      "day03.ipynb\r\n",
      "edit_mode.png\r\n",
      "Emily.png\r\n",
      "menubar_toolbar.png\r\n",
      "olivernalunkuma-day03-report.ipynb\r\n",
      "olivernalunkuma-tutorial1.ipynb\r\n",
      "PyPro-SCiDaS-day_00_introduction_to_jupyter_notebooks.ipynb\r\n",
      "PyPro-SCiDaS-day_01a_introduction_to_python.ipynb\r\n",
      "PyPro-SCiDaS-day_01b_variables-and-assignment.ipynb\r\n",
      "SpongeBob.png\r\n",
      "testfile.txt\r\n",
      "Tutorial_1.ipynb\r\n"
     ]
    }
   ],
   "source": [
    "!dir"
   ]
  },
  {
   "cell_type": "code",
   "execution_count": 114,
   "id": "60b24b99",
   "metadata": {
    "collapsed": true
   },
   "outputs": [
    {
     "ename": "SyntaxError",
     "evalue": "invalid syntax (1287064860.py, line 3)",
     "output_type": "error",
     "traceback": [
      "\u001b[0;36m  File \u001b[0;32m\"/tmp/ipykernel_25367/1287064860.py\"\u001b[0;36m, line \u001b[0;32m3\u001b[0m\n\u001b[0;31m    aims class\u001b[0m\n\u001b[0m         ^\u001b[0m\n\u001b[0;31mSyntaxError\u001b[0m\u001b[0;31m:\u001b[0m invalid syntax\n"
     ]
    }
   ],
   "source": [
    "# %load testfile.txt\n",
    "fghij\n",
    "aims class\n",
    "Rwanda 2025\n",
    "this is really cool\n"
   ]
  },
  {
   "cell_type": "code",
   "execution_count": 128,
   "id": "edc78888",
   "metadata": {},
   "outputs": [],
   "source": [
    "f=open(\"testfile.txt\", \"r\")"
   ]
  },
  {
   "cell_type": "code",
   "execution_count": 117,
   "id": "72e21547",
   "metadata": {},
   "outputs": [
    {
     "data": {
      "text/plain": [
       "_io.TextIOWrapper"
      ]
     },
     "execution_count": 117,
     "metadata": {},
     "output_type": "execute_result"
    }
   ],
   "source": [
    "type(f)"
   ]
  },
  {
   "cell_type": "code",
   "execution_count": 129,
   "id": "646699a6",
   "metadata": {},
   "outputs": [
    {
     "data": {
      "text/plain": [
       "['fghij\\n', 'aims class\\n', 'Rwanda 2025\\n', 'this is really cool\\n']"
      ]
     },
     "execution_count": 129,
     "metadata": {},
     "output_type": "execute_result"
    }
   ],
   "source": [
    "f.readlines()"
   ]
  },
  {
   "cell_type": "code",
   "execution_count": 133,
   "id": "3d1a518b",
   "metadata": {},
   "outputs": [],
   "source": [
    "for line in f:\n",
    "    print(line)"
   ]
  },
  {
   "cell_type": "code",
   "execution_count": 123,
   "id": "ceafb9ff",
   "metadata": {},
   "outputs": [
    {
     "data": {
      "text/plain": [
       "''"
      ]
     },
     "execution_count": 123,
     "metadata": {},
     "output_type": "execute_result"
    }
   ],
   "source": [
    "f.read()"
   ]
  },
  {
   "cell_type": "code",
   "execution_count": 125,
   "id": "313758cc",
   "metadata": {},
   "outputs": [],
   "source": [
    "f.close()"
   ]
  },
  {
   "cell_type": "code",
   "execution_count": 126,
   "id": "dac4fee7",
   "metadata": {
    "collapsed": true
   },
   "outputs": [
    {
     "ename": "ValueError",
     "evalue": "I/O operation on closed file.",
     "output_type": "error",
     "traceback": [
      "\u001b[0;31m---------------------------------------------------------------------------\u001b[0m",
      "\u001b[0;31mValueError\u001b[0m                                Traceback (most recent call last)",
      "\u001b[0;32m/tmp/ipykernel_25367/3059900045.py\u001b[0m in \u001b[0;36m<module>\u001b[0;34m\u001b[0m\n\u001b[0;32m----> 1\u001b[0;31m \u001b[0mf\u001b[0m\u001b[0;34m.\u001b[0m\u001b[0mread\u001b[0m\u001b[0;34m(\u001b[0m\u001b[0;34m)\u001b[0m\u001b[0;34m\u001b[0m\u001b[0;34m\u001b[0m\u001b[0m\n\u001b[0m",
      "\u001b[0;31mValueError\u001b[0m: I/O operation on closed file."
     ]
    }
   ],
   "source": [
    "f.read()"
   ]
  },
  {
   "cell_type": "code",
   "execution_count": 143,
   "id": "bebcd1a0",
   "metadata": {},
   "outputs": [],
   "source": [
    "to_edit=open(\"outfile.txt\", \"w\")\n",
    "to_edit.write(\"This is not okay, yahhhhhhhhhhh!\\n\")\n",
    "to_edit.write(\"This is not okay, naaaaaaaaaaaaaaaaaaahh!\\n\")\n",
    "to_edit.write(\"This is not okay, laaaaaaaaaaaaaaaaaaaahh!\")\n",
    "to_edit.close()"
   ]
  },
  {
   "cell_type": "code",
   "execution_count": null,
   "id": "ff7fb6fb",
   "metadata": {},
   "outputs": [],
   "source": [
    "# %load testfile.txt\n",
    "This is not okay, yahhhhhhhhhhh!"
   ]
  },
  {
   "cell_type": "code",
   "execution_count": 144,
   "id": "75c9a0c7",
   "metadata": {},
   "outputs": [
    {
     "data": {
      "text/plain": [
       "['This is not okay, yahhhhhhhhhhh!\\n',\n",
       " 'This is not okay, naaaaaaaaaaaaaaaaaaahh!\\n',\n",
       " 'This is not okay, laaaaaaaaaaaaaaaaaaaahh!']"
      ]
     },
     "execution_count": 144,
     "metadata": {},
     "output_type": "execute_result"
    }
   ],
   "source": [
    "to_edit = open(\"outfile.txt\", \"r\")\n",
    "to_edit.readlines()"
   ]
  },
  {
   "cell_type": "code",
   "execution_count": 147,
   "id": "0a36f467",
   "metadata": {
    "collapsed": true
   },
   "outputs": [
    {
     "ename": "SyntaxError",
     "evalue": "invalid syntax (635915497.py, line 2)",
     "output_type": "error",
     "traceback": [
      "\u001b[0;36m  File \u001b[0;32m\"/tmp/ipykernel_25367/635915497.py\"\u001b[0;36m, line \u001b[0;32m2\u001b[0m\n\u001b[0;31m    to_edit.writelines(\"makeeeeeeeeeeeeeeeeeeeeeeeee\", /)\u001b[0m\n\u001b[0m                                                       ^\u001b[0m\n\u001b[0;31mSyntaxError\u001b[0m\u001b[0;31m:\u001b[0m invalid syntax\n"
     ]
    }
   ],
   "source": [
    "to_edit=open(\"outfile.txt\", \"r\")\n",
    "to_edit.writelines(\"makeeeeeeeeeeeeeeeeeeeeeeeee\", /)\n",
    "to_edit.close()"
   ]
  },
  {
   "cell_type": "code",
   "execution_count": null,
   "id": "82c63791",
   "metadata": {},
   "outputs": [],
   "source": []
  },
  {
   "cell_type": "code",
   "execution_count": null,
   "id": "1f2226d8",
   "metadata": {},
   "outputs": [],
   "source": []
  }
 ],
 "metadata": {
  "kernelspec": {
   "display_name": "Python 3",
   "language": "python",
   "name": "python3"
  },
  "language_info": {
   "codemirror_mode": {
    "name": "ipython",
    "version": 3
   },
   "file_extension": ".py",
   "mimetype": "text/x-python",
   "name": "python",
   "nbconvert_exporter": "python",
   "pygments_lexer": "ipython3",
   "version": "3.9.2"
  }
 },
 "nbformat": 4,
 "nbformat_minor": 5
}
