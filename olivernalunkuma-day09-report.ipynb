{
 "cells": [
  {
   "cell_type": "markdown",
   "id": "ad72c5f0",
   "metadata": {},
   "source": [
    "# Review"
   ]
  },
  {
   "cell_type": "code",
   "execution_count": 14,
   "id": "e71a792f",
   "metadata": {},
   "outputs": [],
   "source": [
    "n1=23\n",
    "n2=45.67\n",
    "n3=\"Kampala and Kigali\""
   ]
  },
  {
   "cell_type": "code",
   "execution_count": 15,
   "id": "c43e43b5",
   "metadata": {},
   "outputs": [
    {
     "name": "stdout",
     "output_type": "stream",
     "text": [
      "23 45.67 Kampala and Kigali\n"
     ]
    }
   ],
   "source": [
    "print(n1,n2,n3)"
   ]
  },
  {
   "cell_type": "code",
   "execution_count": 4,
   "id": "f5a56180",
   "metadata": {},
   "outputs": [
    {
     "name": "stdout",
     "output_type": "stream",
     "text": [
      "<class 'int'> <class 'float'> <class 'str'>\n"
     ]
    }
   ],
   "source": [
    "print(type(n1), type(n2), type(n3))"
   ]
  },
  {
   "cell_type": "code",
   "execution_count": 5,
   "id": "4b3221c9",
   "metadata": {},
   "outputs": [
    {
     "name": "stdout",
     "output_type": "stream",
     "text": [
      "46\n"
     ]
    }
   ],
   "source": [
    "print(n1+n1)"
   ]
  },
  {
   "cell_type": "code",
   "execution_count": 6,
   "id": "080a7092",
   "metadata": {},
   "outputs": [
    {
     "name": "stdout",
     "output_type": "stream",
     "text": [
      "91.34\n"
     ]
    }
   ],
   "source": [
    "print(n2+n2)"
   ]
  },
  {
   "cell_type": "code",
   "execution_count": 16,
   "id": "10f9709c",
   "metadata": {},
   "outputs": [
    {
     "name": "stdout",
     "output_type": "stream",
     "text": [
      "Kampala and KigaliKampala and Kigali\n"
     ]
    }
   ],
   "source": [
    "print(n3+n3)"
   ]
  },
  {
   "cell_type": "code",
   "execution_count": 8,
   "id": "31c79d58",
   "metadata": {},
   "outputs": [
    {
     "name": "stdout",
     "output_type": "stream",
     "text": [
      "23.0\n"
     ]
    }
   ],
   "source": [
    "print(float(n1))"
   ]
  },
  {
   "cell_type": "code",
   "execution_count": 9,
   "id": "1ad826e5",
   "metadata": {},
   "outputs": [
    {
     "data": {
      "text/plain": [
       "float"
      ]
     },
     "execution_count": 9,
     "metadata": {},
     "output_type": "execute_result"
    }
   ],
   "source": [
    "type(float(n1))"
   ]
  },
  {
   "cell_type": "code",
   "execution_count": 10,
   "id": "6dd939a2",
   "metadata": {},
   "outputs": [
    {
     "name": "stdout",
     "output_type": "stream",
     "text": [
      "23\n"
     ]
    }
   ],
   "source": [
    "print(str(n1))"
   ]
  },
  {
   "cell_type": "code",
   "execution_count": 11,
   "id": "7b1bbc97",
   "metadata": {},
   "outputs": [
    {
     "data": {
      "text/plain": [
       "str"
      ]
     },
     "execution_count": 11,
     "metadata": {},
     "output_type": "execute_result"
    }
   ],
   "source": [
    "type(str(n1))"
   ]
  },
  {
   "cell_type": "code",
   "execution_count": 17,
   "id": "a9fa8168",
   "metadata": {},
   "outputs": [
    {
     "data": {
      "text/plain": [
       "'Kampala and Kigali'"
      ]
     },
     "execution_count": 17,
     "metadata": {},
     "output_type": "execute_result"
    }
   ],
   "source": [
    "n3"
   ]
  },
  {
   "cell_type": "code",
   "execution_count": 18,
   "id": "d27cad4b",
   "metadata": {},
   "outputs": [
    {
     "data": {
      "text/plain": [
       "'ilagiK dna alapmaK'"
      ]
     },
     "execution_count": 18,
     "metadata": {},
     "output_type": "execute_result"
    }
   ],
   "source": [
    "n3[::-1]"
   ]
  },
  {
   "cell_type": "code",
   "execution_count": 19,
   "id": "62e6b148",
   "metadata": {},
   "outputs": [
    {
     "data": {
      "text/plain": [
       "'i'"
      ]
     },
     "execution_count": 19,
     "metadata": {},
     "output_type": "execute_result"
    }
   ],
   "source": [
    "n3[-1]"
   ]
  },
  {
   "cell_type": "code",
   "execution_count": 20,
   "id": "fa73feb0",
   "metadata": {},
   "outputs": [
    {
     "data": {
      "text/plain": [
       "'KmaaadKgl'"
      ]
     },
     "execution_count": 20,
     "metadata": {},
     "output_type": "execute_result"
    }
   ],
   "source": [
    "n3[0::2]"
   ]
  },
  {
   "cell_type": "code",
   "execution_count": 22,
   "id": "571b15da",
   "metadata": {},
   "outputs": [
    {
     "data": {
      "text/plain": [
       "'maaadKgl'"
      ]
     },
     "execution_count": 22,
     "metadata": {},
     "output_type": "execute_result"
    }
   ],
   "source": [
    "n3[2:18:2]"
   ]
  },
  {
   "cell_type": "markdown",
   "id": "d54e7b69",
   "metadata": {},
   "source": [
    "# containers"
   ]
  },
  {
   "cell_type": "markdown",
   "id": "4b99022e",
   "metadata": {},
   "source": [
    "## lists[], tuples(),dictionaries & sets{}"
   ]
  },
  {
   "cell_type": "code",
   "execution_count": 24,
   "id": "1fc2af13",
   "metadata": {},
   "outputs": [
    {
     "name": "stdout",
     "output_type": "stream",
     "text": [
      "[11, 22, 33, 44, 55, 'AIMS', 'Kampala and Kigali']\n"
     ]
    }
   ],
   "source": [
    "list1=[11,22,33,44,55, 'AIMS', n3]\n",
    "print(list1)"
   ]
  },
  {
   "cell_type": "code",
   "execution_count": 25,
   "id": "cf586f17",
   "metadata": {},
   "outputs": [
    {
     "data": {
      "text/plain": [
       "55"
      ]
     },
     "execution_count": 25,
     "metadata": {},
     "output_type": "execute_result"
    }
   ],
   "source": [
    "list1[4]"
   ]
  },
  {
   "cell_type": "code",
   "execution_count": 27,
   "id": "fa3df9c4",
   "metadata": {},
   "outputs": [
    {
     "data": {
      "text/plain": [
       "'Kampala and Kigali'"
      ]
     },
     "execution_count": 27,
     "metadata": {},
     "output_type": "execute_result"
    }
   ],
   "source": [
    "list1[-1]"
   ]
  },
  {
   "cell_type": "code",
   "execution_count": 28,
   "id": "dddbc21c",
   "metadata": {},
   "outputs": [
    {
     "data": {
      "text/plain": [
       "[11, 33, 55, 'Kampala and Kigali']"
      ]
     },
     "execution_count": 28,
     "metadata": {},
     "output_type": "execute_result"
    }
   ],
   "source": [
    "list1[0::2]"
   ]
  },
  {
   "cell_type": "code",
   "execution_count": 30,
   "id": "94d6bb18",
   "metadata": {},
   "outputs": [
    {
     "data": {
      "text/plain": [
       "'Kampala and Kigali'"
      ]
     },
     "execution_count": 30,
     "metadata": {},
     "output_type": "execute_result"
    }
   ],
   "source": [
    "list1[-1]"
   ]
  },
  {
   "cell_type": "code",
   "execution_count": 46,
   "id": "f91ab255",
   "metadata": {},
   "outputs": [
    {
     "data": {
      "text/plain": [
       "[11,\n",
       " 22,\n",
       " 33,\n",
       " 44,\n",
       " 55,\n",
       " 'AIMS',\n",
       " 'Kampala and Kigali',\n",
       " 'Kampala and Kigali',\n",
       " 'Kampala and Kigali',\n",
       " 'Kampala and Kigali']"
      ]
     },
     "execution_count": 46,
     "metadata": {},
     "output_type": "execute_result"
    }
   ],
   "source": [
    "list1 + 3*[list1[-1]]"
   ]
  },
  {
   "cell_type": "code",
   "execution_count": 44,
   "id": "70a3371c",
   "metadata": {},
   "outputs": [
    {
     "data": {
      "text/plain": [
       "[11, 22, 33, 44, 55, 'AIMS', 'Kampala and Kigali', 5, 8, 9, 'Poor']"
      ]
     },
     "execution_count": 44,
     "metadata": {},
     "output_type": "execute_result"
    }
   ],
   "source": [
    "list1 + [5,8,9,'Poor']"
   ]
  },
  {
   "cell_type": "code",
   "execution_count": null,
   "id": "d42634f2",
   "metadata": {},
   "outputs": [],
   "source": []
  },
  {
   "cell_type": "code",
   "execution_count": 34,
   "id": "ea7b3f4d",
   "metadata": {},
   "outputs": [
    {
     "name": "stdout",
     "output_type": "stream",
     "text": [
      "2,56,89,10,'AIMS', 'FEIN'\n"
     ]
    }
   ],
   "source": [
    "tuple1=\"2,56,89,10,'AIMS', 'FEIN'\"\n",
    "print(tuple1)"
   ]
  },
  {
   "cell_type": "code",
   "execution_count": 36,
   "id": "a2e747e6",
   "metadata": {},
   "outputs": [
    {
     "data": {
      "text/plain": [
       "'2'"
      ]
     },
     "execution_count": 36,
     "metadata": {},
     "output_type": "execute_result"
    }
   ],
   "source": [
    "tuple1[0]"
   ]
  },
  {
   "cell_type": "code",
   "execution_count": 51,
   "id": "54bbd4c8",
   "metadata": {
    "collapsed": true
   },
   "outputs": [
    {
     "ename": "SyntaxError",
     "evalue": "invalid syntax (3113377703.py, line 1)",
     "output_type": "error",
     "traceback": [
      "\u001b[0;36m  File \u001b[0;32m\"/tmp/ipykernel_13650/3113377703.py\"\u001b[0;36m, line \u001b[0;32m1\u001b[0m\n\u001b[0;31m    my_dict([('std1':['Zo', 'AIMS-RW', 95,90,94,98]), ('std2':['Tim','AIMS-GH',92,87,90,93])])\u001b[0m\n\u001b[0m                    ^\u001b[0m\n\u001b[0;31mSyntaxError\u001b[0m\u001b[0;31m:\u001b[0m invalid syntax\n"
     ]
    }
   ],
   "source": [
    "my_dict([('std1':['Zo', 'AIMS-RW', 95,90,94,98]), ('std2':['Tim','AIMS-GH',92,87,90,93])])"
   ]
  },
  {
   "cell_type": "code",
   "execution_count": 52,
   "id": "b77e3523",
   "metadata": {},
   "outputs": [
    {
     "name": "stdout",
     "output_type": "stream",
     "text": [
      "positive number\n"
     ]
    }
   ],
   "source": [
    "a=10\n",
    "if a<0:\n",
    "    print('negative number')\n",
    "else:\n",
    "    print('positive number')"
   ]
  },
  {
   "cell_type": "code",
   "execution_count": 53,
   "id": "18435c4b",
   "metadata": {},
   "outputs": [
    {
     "name": "stdout",
     "output_type": "stream",
     "text": [
      "Zo\n",
      "AIMS-RW\n",
      "95\n",
      "90\n",
      "94\n",
      "98\n"
     ]
    }
   ],
   "source": [
    "for i in ['Zo', 'AIMS-RW', 95,90,94,98]:\n",
    "    print(i)"
   ]
  },
  {
   "cell_type": "code",
   "execution_count": 57,
   "id": "988f3ed9",
   "metadata": {},
   "outputs": [
    {
     "name": "stdout",
     "output_type": "stream",
     "text": [
      "1\n",
      "4\n",
      "9\n",
      "16\n",
      "25\n",
      "36\n",
      "49\n",
      "64\n",
      "81\n",
      "100\n"
     ]
    }
   ],
   "source": [
    "i=1\n",
    "while(i<=10):\n",
    "    print(i**2)\n",
    "    i+=1"
   ]
  },
  {
   "cell_type": "code",
   "execution_count": 58,
   "id": "9cdf9974",
   "metadata": {},
   "outputs": [
    {
     "data": {
      "text/plain": [
       "8"
      ]
     },
     "execution_count": 58,
     "metadata": {},
     "output_type": "execute_result"
    }
   ],
   "source": [
    "def expo(number, base):\n",
    "    \"\"\"copmute the number**base\n",
    "    input: number, base\n",
    "        output: number**base\n",
    "            \"\"\"\n",
    "    return number**base\n",
    "expo(2,3)"
   ]
  },
  {
   "cell_type": "code",
   "execution_count": 64,
   "id": "acce5edd",
   "metadata": {},
   "outputs": [
    {
     "data": {
      "text/plain": [
       "16"
      ]
     },
     "execution_count": 64,
     "metadata": {},
     "output_type": "execute_result"
    }
   ],
   "source": [
    "def expo1(number, base):\n",
    "    \"\"\"copmute the number**base\n",
    "    input: number, base\n",
    "        output: number**base\n",
    "            \"\"\"\n",
    "    return number,base, number**base\n",
    "expo(4,2)"
   ]
  },
  {
   "cell_type": "code",
   "execution_count": null,
   "id": "613b76a1",
   "metadata": {},
   "outputs": [],
   "source": []
  },
  {
   "cell_type": "code",
   "execution_count": null,
   "id": "94743051",
   "metadata": {},
   "outputs": [],
   "source": []
  },
  {
   "cell_type": "code",
   "execution_count": null,
   "id": "ef91b7ed",
   "metadata": {},
   "outputs": [],
   "source": []
  },
  {
   "cell_type": "code",
   "execution_count": null,
   "id": "ff03992b",
   "metadata": {},
   "outputs": [],
   "source": []
  },
  {
   "cell_type": "code",
   "execution_count": null,
   "id": "d656115e",
   "metadata": {},
   "outputs": [],
   "source": []
  },
  {
   "cell_type": "code",
   "execution_count": null,
   "id": "a37b5c34",
   "metadata": {},
   "outputs": [],
   "source": []
  },
  {
   "cell_type": "code",
   "execution_count": null,
   "id": "70250282",
   "metadata": {},
   "outputs": [],
   "source": []
  },
  {
   "cell_type": "code",
   "execution_count": null,
   "id": "a0746bfc",
   "metadata": {},
   "outputs": [],
   "source": []
  },
  {
   "cell_type": "code",
   "execution_count": null,
   "id": "3733c057",
   "metadata": {},
   "outputs": [],
   "source": []
  },
  {
   "cell_type": "code",
   "execution_count": null,
   "id": "899abcef",
   "metadata": {},
   "outputs": [],
   "source": []
  },
  {
   "cell_type": "code",
   "execution_count": null,
   "id": "b31df28f",
   "metadata": {},
   "outputs": [],
   "source": []
  }
 ],
 "metadata": {
  "kernelspec": {
   "display_name": "Python 3",
   "language": "python",
   "name": "python3"
  },
  "language_info": {
   "codemirror_mode": {
    "name": "ipython",
    "version": 3
   },
   "file_extension": ".py",
   "mimetype": "text/x-python",
   "name": "python",
   "nbconvert_exporter": "python",
   "pygments_lexer": "ipython3",
   "version": "3.9.2"
  }
 },
 "nbformat": 4,
 "nbformat_minor": 5
}
