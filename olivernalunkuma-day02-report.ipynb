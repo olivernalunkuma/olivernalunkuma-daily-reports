{
 "cells": [
  {
   "cell_type": "markdown",
   "id": "a8c7bbbb",
   "metadata": {},
   "source": [
    "****\n",
    "\n",
    "# <center> <b> <span style=\"color:orange;\"> Python Proficiency for Scientific Computing and Data Science (PyPro-SCiDaS)  </span> </b></center>\n",
    "\n",
    "### <center> <b> <span style=\"color:green;\">An Initiation to Programming using Python (Init2Py) </span> </b></center>\n",
    "    "
   ]
  },
  {
   "cell_type": "markdown",
   "id": "69490aa9",
   "metadata": {},
   "source": [
    "****\n",
    "\n",
    "# <center> <b> <span style=\"color:blue;\">Lecture 1: Variables and assignments </span> </b></center>\n",
    "\n",
    "\n",
    "****\n"
   ]
  },
  {
   "cell_type": "markdown",
   "id": "1ed2ce49",
   "metadata": {},
   "source": [
    "### 2.4. Dynamic Typing in Python\n",
    "\n"
   ]
  },
  {
   "cell_type": "code",
   "execution_count": 6,
   "id": "f05cee1d",
   "metadata": {},
   "outputs": [],
   "source": [
    "x=78\n",
    "y=20.5"
   ]
  },
  {
   "cell_type": "code",
   "execution_count": 7,
   "id": "cbd857f0",
   "metadata": {},
   "outputs": [
    {
     "data": {
      "text/plain": [
       "98.5"
      ]
     },
     "execution_count": 7,
     "metadata": {},
     "output_type": "execute_result"
    }
   ],
   "source": [
    "x+y"
   ]
  },
  {
   "cell_type": "code",
   "execution_count": 8,
   "id": "cc0e0234",
   "metadata": {},
   "outputs": [
    {
     "data": {
      "text/plain": [
       "98"
      ]
     },
     "execution_count": 8,
     "metadata": {},
     "output_type": "execute_result"
    }
   ],
   "source": [
    "x+int(y)"
   ]
  },
  {
   "cell_type": "code",
   "execution_count": 16,
   "id": "5a1bc42f",
   "metadata": {},
   "outputs": [],
   "source": [
    "r=36\n",
    "t=\"oliver.nalunkuma@gmail.com\""
   ]
  },
  {
   "cell_type": "code",
   "execution_count": 10,
   "id": "5affe142",
   "metadata": {},
   "outputs": [
    {
     "data": {
      "text/plain": [
       "0"
      ]
     },
     "execution_count": 10,
     "metadata": {},
     "output_type": "execute_result"
    }
   ],
   "source": [
    "r.imag"
   ]
  },
  {
   "cell_type": "code",
   "execution_count": 13,
   "id": "0175f2e2",
   "metadata": {},
   "outputs": [
    {
     "data": {
      "text/plain": [
       "36"
      ]
     },
     "execution_count": 13,
     "metadata": {},
     "output_type": "execute_result"
    }
   ],
   "source": [
    "r.numerator"
   ]
  },
  {
   "cell_type": "code",
   "execution_count": 19,
   "id": "773b5cce",
   "metadata": {},
   "outputs": [
    {
     "data": {
      "text/plain": [
       "'Oliver.nalunkuma@gmail.com'"
      ]
     },
     "execution_count": 19,
     "metadata": {},
     "output_type": "execute_result"
    }
   ],
   "source": [
    "t.capitalize()"
   ]
  },
  {
   "cell_type": "code",
   "execution_count": 25,
   "id": "9f70c867",
   "metadata": {},
   "outputs": [
    {
     "data": {
      "text/plain": [
       "'oliver.nalunkuma@gmail.com'"
      ]
     },
     "execution_count": 25,
     "metadata": {},
     "output_type": "execute_result"
    }
   ],
   "source": [
    "t.format()"
   ]
  },
  {
   "cell_type": "code",
   "execution_count": 46,
   "id": "db77cf4a",
   "metadata": {},
   "outputs": [
    {
     "name": "stdout",
     "output_type": "stream",
     "text": [
      "(3+8j)\n"
     ]
    },
    {
     "data": {
      "text/plain": [
       "complex"
      ]
     },
     "execution_count": 46,
     "metadata": {},
     "output_type": "execute_result"
    }
   ],
   "source": [
    "k=complex(3, 8)\n",
    "print(k)\n",
    "type(k)"
   ]
  },
  {
   "cell_type": "code",
   "execution_count": 31,
   "id": "ff6f3e5c",
   "metadata": {
    "collapsed": true
   },
   "outputs": [
    {
     "data": {
      "text/plain": [
       "['__abs__',\n",
       " '__add__',\n",
       " '__bool__',\n",
       " '__class__',\n",
       " '__delattr__',\n",
       " '__dir__',\n",
       " '__divmod__',\n",
       " '__doc__',\n",
       " '__eq__',\n",
       " '__float__',\n",
       " '__floordiv__',\n",
       " '__format__',\n",
       " '__ge__',\n",
       " '__getattribute__',\n",
       " '__getnewargs__',\n",
       " '__gt__',\n",
       " '__hash__',\n",
       " '__init__',\n",
       " '__init_subclass__',\n",
       " '__int__',\n",
       " '__le__',\n",
       " '__lt__',\n",
       " '__mod__',\n",
       " '__mul__',\n",
       " '__ne__',\n",
       " '__neg__',\n",
       " '__new__',\n",
       " '__pos__',\n",
       " '__pow__',\n",
       " '__radd__',\n",
       " '__rdivmod__',\n",
       " '__reduce__',\n",
       " '__reduce_ex__',\n",
       " '__repr__',\n",
       " '__rfloordiv__',\n",
       " '__rmod__',\n",
       " '__rmul__',\n",
       " '__rpow__',\n",
       " '__rsub__',\n",
       " '__rtruediv__',\n",
       " '__setattr__',\n",
       " '__sizeof__',\n",
       " '__str__',\n",
       " '__sub__',\n",
       " '__subclasshook__',\n",
       " '__truediv__',\n",
       " 'conjugate',\n",
       " 'imag',\n",
       " 'real']"
      ]
     },
     "execution_count": 31,
     "metadata": {},
     "output_type": "execute_result"
    }
   ],
   "source": [
    "dir(k)"
   ]
  },
  {
   "cell_type": "code",
   "execution_count": 34,
   "id": "3cb10d49",
   "metadata": {},
   "outputs": [
    {
     "data": {
      "text/plain": [
       "(3-8j)"
      ]
     },
     "execution_count": 34,
     "metadata": {},
     "output_type": "execute_result"
    }
   ],
   "source": [
    "k.conjugate()"
   ]
  },
  {
   "cell_type": "code",
   "execution_count": 36,
   "id": "aa18794b",
   "metadata": {},
   "outputs": [
    {
     "data": {
      "text/plain": [
       "3.0"
      ]
     },
     "execution_count": 36,
     "metadata": {},
     "output_type": "execute_result"
    }
   ],
   "source": [
    "k.real"
   ]
  },
  {
   "cell_type": "code",
   "execution_count": 39,
   "id": "7625533b",
   "metadata": {},
   "outputs": [
    {
     "data": {
      "text/plain": [
       "8.0"
      ]
     },
     "execution_count": 39,
     "metadata": {},
     "output_type": "execute_result"
    }
   ],
   "source": [
    "k.imag"
   ]
  },
  {
   "cell_type": "code",
   "execution_count": 48,
   "id": "d9fb58d7",
   "metadata": {},
   "outputs": [
    {
     "name": "stdout",
     "output_type": "stream",
     "text": [
      "(3-8j)\n"
     ]
    }
   ],
   "source": [
    "p=k.conjugate()\n",
    "print(p)"
   ]
  },
  {
   "cell_type": "code",
   "execution_count": 80,
   "id": "02cf60e9",
   "metadata": {},
   "outputs": [
    {
     "data": {
      "text/plain": [
       "float"
      ]
     },
     "execution_count": 80,
     "metadata": {},
     "output_type": "execute_result"
    }
   ],
   "source": [
    "p1=p.imag\n",
    "type(p1)"
   ]
  },
  {
   "cell_type": "code",
   "execution_count": 77,
   "id": "1cd19ac3",
   "metadata": {},
   "outputs": [
    {
     "name": "stdout",
     "output_type": "stream",
     "text": [
      "Enter your name:, Annaa\n",
      "Your first name is Annaa!\n"
     ]
    }
   ],
   "source": [
    "first_name=input(\"Enter your name:, \")\n",
    "print(\"Your first name is\" \" \"+ first_name + \"!\")"
   ]
  },
  {
   "cell_type": "code",
   "execution_count": 78,
   "id": "297a35c4",
   "metadata": {},
   "outputs": [
    {
     "data": {
      "text/plain": [
       "str"
      ]
     },
     "execution_count": 78,
     "metadata": {},
     "output_type": "execute_result"
    }
   ],
   "source": [
    "type(first_name)"
   ]
  },
  {
   "cell_type": "code",
   "execution_count": 60,
   "id": "3c1ad38f",
   "metadata": {},
   "outputs": [
    {
     "name": "stdout",
     "output_type": "stream",
     "text": [
      "3\n",
      "5\n"
     ]
    }
   ],
   "source": [
    "e=5\n",
    "d=3\n",
    "e,d=d,e\n",
    "print(e)\n",
    "print(d)"
   ]
  },
  {
   "cell_type": "code",
   "execution_count": 63,
   "id": "17018f91",
   "metadata": {},
   "outputs": [
    {
     "name": "stdout",
     "output_type": "stream",
     "text": [
      "3\n",
      "5\n"
     ]
    }
   ],
   "source": [
    "e=5\n",
    "d=3\n",
    "tmp=e\n",
    "e=d\n",
    "d=tmp\n",
    "print(e)\n",
    "print(d)"
   ]
  },
  {
   "cell_type": "code",
   "execution_count": 65,
   "id": "c1d41e86",
   "metadata": {},
   "outputs": [
    {
     "name": "stdout",
     "output_type": "stream",
     "text": [
      "False\n",
      "True\n"
     ]
    }
   ],
   "source": [
    "e=True\n",
    "d=False\n",
    "tmp=e\n",
    "e=d\n",
    "d=tmp\n",
    "print(e)\n",
    "print(d)"
   ]
  },
  {
   "cell_type": "code",
   "execution_count": 76,
   "id": "86b3bfc1",
   "metadata": {},
   "outputs": [
    {
     "name": "stdout",
     "output_type": "stream",
     "text": [
      "False\n",
      "True\n"
     ]
    }
   ],
   "source": [
    "e=True\n",
    "d=False\n",
    "e=2*e+d-2*e\n",
    "d=e**0\n",
    "print(bool(e))\n",
    "print(bool(d))"
   ]
  },
  {
   "cell_type": "code",
   "execution_count": 87,
   "id": "22614c7e",
   "metadata": {},
   "outputs": [
    {
     "name": "stdout",
     "output_type": "stream",
     "text": [
      "29\n",
      "29.3\n"
     ]
    },
    {
     "data": {
      "text/plain": [
       "'29.3'"
      ]
     },
     "execution_count": 87,
     "metadata": {},
     "output_type": "execute_result"
    }
   ],
   "source": [
    "s=29.3\n",
    "s1=int(s)\n",
    "s2=str(s)\n",
    "s3=bool(s)\n",
    "print(s1)\n",
    "print(s2)\n",
    "s2\n"
   ]
  },
  {
   "cell_type": "code",
   "execution_count": 94,
   "id": "200704c7",
   "metadata": {},
   "outputs": [
    {
     "name": "stdout",
     "output_type": "stream",
     "text": [
      "True\n"
     ]
    },
    {
     "data": {
      "text/plain": [
       "bool"
      ]
     },
     "execution_count": 94,
     "metadata": {},
     "output_type": "execute_result"
    }
   ],
   "source": [
    "print(s3)\n",
    "type(s3)"
   ]
  },
  {
   "cell_type": "code",
   "execution_count": 95,
   "id": "8c22290f",
   "metadata": {},
   "outputs": [
    {
     "data": {
      "text/plain": [
       "False"
      ]
     },
     "execution_count": 95,
     "metadata": {},
     "output_type": "execute_result"
    }
   ],
   "source": [
    "z=0\n",
    "bool(z)"
   ]
  },
  {
   "cell_type": "code",
   "execution_count": null,
   "id": "ba726946",
   "metadata": {},
   "outputs": [],
   "source": []
  }
 ],
 "metadata": {
  "kernelspec": {
   "display_name": "Python 3",
   "language": "python",
   "name": "python3"
  },
  "language_info": {
   "codemirror_mode": {
    "name": "ipython",
    "version": 3
   },
   "file_extension": ".py",
   "mimetype": "text/x-python",
   "name": "python",
   "nbconvert_exporter": "python",
   "pygments_lexer": "ipython3",
   "version": "3.9.2"
  }
 },
 "nbformat": 4,
 "nbformat_minor": 5
}
