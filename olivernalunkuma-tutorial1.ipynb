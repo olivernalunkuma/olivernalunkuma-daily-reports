{
 "cells": [
  {
   "cell_type": "code",
   "execution_count": 1,
   "id": "8bde1d37",
   "metadata": {},
   "outputs": [
    {
     "name": "stdout",
     "output_type": "stream",
     "text": [
      "10\n"
     ]
    }
   ],
   "source": [
    "x=10\n",
    "print(x)"
   ]
  },
  {
   "cell_type": "code",
   "execution_count": 2,
   "id": "e388d14d",
   "metadata": {},
   "outputs": [
    {
     "name": "stdout",
     "output_type": "stream",
     "text": [
      "True\n"
     ]
    }
   ],
   "source": [
    "is_valid=True\n",
    "print(is_valid)"
   ]
  },
  {
   "cell_type": "code",
   "execution_count": 3,
   "id": "169c2201",
   "metadata": {},
   "outputs": [
    {
     "data": {
      "text/plain": [
       "'Python Programming'"
      ]
     },
     "execution_count": 3,
     "metadata": {},
     "output_type": "execute_result"
    }
   ],
   "source": [
    "name=\"Python Programming\"\n",
    "name"
   ]
  },
  {
   "cell_type": "code",
   "execution_count": 5,
   "id": "c1fb4f45",
   "metadata": {},
   "outputs": [
    {
     "name": "stdout",
     "output_type": "stream",
     "text": [
      "8\n"
     ]
    }
   ],
   "source": [
    "p=5\n",
    "q=3\\\n",
    "\n",
    "\n",
    "\n",
    "\n",
    "\n",
    "\n",
    "\n",
    "sum_result=p+q\n",
    "print(sum_result)"
   ]
  },
  {
   "cell_type": "code",
   "execution_count": 6,
   "id": "6655b6a4",
   "metadata": {},
   "outputs": [
    {
     "name": "stdout",
     "output_type": "stream",
     "text": [
      "5 10 15\n"
     ]
    }
   ],
   "source": [
    "a,b,c=5,10,15\n",
    "print(a,b,c)"
   ]
  },
  {
   "cell_type": "code",
   "execution_count": 10,
   "id": "2056ed8b",
   "metadata": {},
   "outputs": [
    {
     "name": "stdout",
     "output_type": "stream",
     "text": [
      "1\n"
     ]
    }
   ],
   "source": [
    "x=1\n",
    "y=x\n",
    "print(y)"
   ]
  },
  {
   "cell_type": "code",
   "execution_count": 11,
   "id": "0e0e4605",
   "metadata": {},
   "outputs": [
    {
     "name": "stdout",
     "output_type": "stream",
     "text": [
      "9.8\n"
     ]
    }
   ],
   "source": [
    "gravity=9.8\n",
    "print(gravity)"
   ]
  },
  {
   "cell_type": "code",
   "execution_count": 20,
   "id": "04a20163",
   "metadata": {},
   "outputs": [
    {
     "name": "stdout",
     "output_type": "stream",
     "text": [
      "Chad\n"
     ]
    }
   ],
   "source": [
    "country=\"Chad\"\n",
    "print(country)"
   ]
  },
  {
   "cell_type": "code",
   "execution_count": 19,
   "id": "34873b53",
   "metadata": {},
   "outputs": [
    {
     "name": "stdout",
     "output_type": "stream",
     "text": [
      "26\n"
     ]
    }
   ],
   "source": [
    "age1=25\n",
    "age2=26\n",
    "tmp=age1\n",
    "age1=age2\n",
    "age=age1\n",
    "print(age)"
   ]
  },
  {
   "cell_type": "code",
   "execution_count": 16,
   "id": "91385fc8",
   "metadata": {},
   "outputs": [
    {
     "name": "stdout",
     "output_type": "stream",
     "text": [
      "13\n"
     ]
    }
   ],
   "source": [
    "h=20\n",
    "g=7\n",
    "sub_numbers=h-g\n",
    "print(sub_numbers)"
   ]
  },
  {
   "cell_type": "code",
   "execution_count": 21,
   "id": "38de5f1c",
   "metadata": {},
   "outputs": [
    {
     "name": "stdout",
     "output_type": "stream",
     "text": [
      "23 267.65\n"
     ]
    }
   ],
   "source": [
    "w1=23\n",
    "w2=267.65\n",
    "print(w1,w2)"
   ]
  },
  {
   "cell_type": "code",
   "execution_count": 22,
   "id": "06ddb4d8",
   "metadata": {},
   "outputs": [
    {
     "name": "stdout",
     "output_type": "stream",
     "text": [
      "False\n"
     ]
    }
   ],
   "source": [
    "is_completed=False\n",
    "print(is_completed)"
   ]
  },
  {
   "cell_type": "code",
   "execution_count": 23,
   "id": "781cb94f",
   "metadata": {},
   "outputs": [
    {
     "name": "stdout",
     "output_type": "stream",
     "text": [
      "-3 8\n"
     ]
    }
   ],
   "source": [
    "x=8\n",
    "y=-3\n",
    "x,y=y,x\n",
    "print(x,y)"
   ]
  },
  {
   "cell_type": "code",
   "execution_count": 32,
   "id": "d9e3f30b",
   "metadata": {},
   "outputs": [
    {
     "name": "stdout",
     "output_type": "stream",
     "text": [
      "(3+4j)\n"
     ]
    }
   ],
   "source": [
    "complex_num=complex(3,4)\n",
    "print(complex_num)"
   ]
  },
  {
   "cell_type": "code",
   "execution_count": 38,
   "id": "599fb650",
   "metadata": {},
   "outputs": [
    {
     "data": {
      "text/plain": [
       "'34'"
      ]
     },
     "execution_count": 38,
     "metadata": {},
     "output_type": "execute_result"
    }
   ],
   "source": [
    "d2=34\n",
    "d3=str(d2)\n",
    "d3\n",
    "\n"
   ]
  },
  {
   "cell_type": "code",
   "execution_count": 37,
   "id": "65367d90",
   "metadata": {},
   "outputs": [
    {
     "data": {
      "text/plain": [
       "str"
      ]
     },
     "execution_count": 37,
     "metadata": {},
     "output_type": "execute_result"
    }
   ],
   "source": [
    "type(d3)"
   ]
  },
  {
   "cell_type": "code",
   "execution_count": 39,
   "id": "5aa37c60",
   "metadata": {},
   "outputs": [
    {
     "name": "stdout",
     "output_type": "stream",
     "text": [
      "Oliver Nalunkuma\n"
     ]
    }
   ],
   "source": [
    "first_name=\"Oliver\"\n",
    "last_name=\"Nalunkuma\"\n",
    "print(first_name, last_name)"
   ]
  },
  {
   "cell_type": "code",
   "execution_count": 40,
   "id": "62aa0506",
   "metadata": {},
   "outputs": [
    {
     "name": "stdout",
     "output_type": "stream",
     "text": [
      "35.5\n"
     ]
    }
   ],
   "source": [
    "temperature=35.5\n",
    "print(temperature)"
   ]
  },
  {
   "cell_type": "code",
   "execution_count": 44,
   "id": "6c327a12",
   "metadata": {},
   "outputs": [
    {
     "name": "stdout",
     "output_type": "stream",
     "text": [
      "48\n"
     ]
    }
   ],
   "source": [
    "t1,t2 = 8,6\n",
    "product=t1*t2\n",
    "print(product)"
   ]
  },
  {
   "cell_type": "code",
   "execution_count": 45,
   "id": "9a6d02e3",
   "metadata": {},
   "outputs": [
    {
     "name": "stdout",
     "output_type": "stream",
     "text": [
      "I hate coding\n"
     ]
    }
   ],
   "source": [
    "sentence=\"I hate coding\"\n",
    "print(sentence)"
   ]
  },
  {
   "cell_type": "code",
   "execution_count": 46,
   "id": "91bd86dc",
   "metadata": {},
   "outputs": [
    {
     "name": "stdout",
     "output_type": "stream",
     "text": [
      "50\n"
     ]
    }
   ],
   "source": [
    "g2=\"50\"\n",
    "int_value=int(g2)\n",
    "print(int_value)"
   ]
  },
  {
   "cell_type": "code",
   "execution_count": 47,
   "id": "b9ae4f70",
   "metadata": {},
   "outputs": [
    {
     "data": {
      "text/plain": [
       "int"
      ]
     },
     "execution_count": 47,
     "metadata": {},
     "output_type": "execute_result"
    }
   ],
   "source": [
    "type(int_value)"
   ]
  },
  {
   "cell_type": "code",
   "execution_count": 49,
   "id": "88e13de1",
   "metadata": {},
   "outputs": [
    {
     "data": {
      "text/plain": [
       "str"
      ]
     },
     "execution_count": 49,
     "metadata": {},
     "output_type": "execute_result"
    }
   ],
   "source": [
    "type(g2)"
   ]
  },
  {
   "cell_type": "code",
   "execution_count": 54,
   "id": "0f42fac9",
   "metadata": {},
   "outputs": [
    {
     "name": "stdout",
     "output_type": "stream",
     "text": [
      "12\n"
     ]
    }
   ],
   "source": [
    "q1,q2=144,12\n",
    "quotient=int(q1/q2)\n",
    "print(quotient)"
   ]
  },
  {
   "cell_type": "code",
   "execution_count": 55,
   "id": "e6e12291",
   "metadata": {},
   "outputs": [
    {
     "name": "stdout",
     "output_type": "stream",
     "text": [
      "2\n"
     ]
    }
   ],
   "source": [
    "q3,q4=47,5\n",
    "remainder=q3%q4\n",
    "print(remainder)"
   ]
  },
  {
   "cell_type": "code",
   "execution_count": 56,
   "id": "ac27b263",
   "metadata": {},
   "outputs": [
    {
     "name": "stdout",
     "output_type": "stream",
     "text": [
      "True\n"
     ]
    }
   ],
   "source": [
    "is_student=True\n",
    "print(is_student)"
   ]
  },
  {
   "cell_type": "code",
   "execution_count": 58,
   "id": "c35c2f92",
   "metadata": {},
   "outputs": [
    {
     "name": "stdout",
     "output_type": "stream",
     "text": [
      "1\n"
     ]
    }
   ],
   "source": [
    "q5,q6=45,4\n",
    "modulo=q5%q6\n",
    "print(modulo)"
   ]
  },
  {
   "cell_type": "code",
   "execution_count": 59,
   "id": "100d3df3",
   "metadata": {},
   "outputs": [
    {
     "name": "stdout",
     "output_type": "stream",
     "text": [
      "3.14159\n"
     ]
    }
   ],
   "source": [
    "pi=3.14159\n",
    "print(pi)"
   ]
  },
  {
   "cell_type": "code",
   "execution_count": 60,
   "id": "00ca93c5",
   "metadata": {},
   "outputs": [
    {
     "name": "stdout",
     "output_type": "stream",
     "text": [
      "50\n"
     ]
    }
   ],
   "source": [
    "length=10\n",
    "width=5\n",
    "area=length*width\n",
    "print(area)"
   ]
  },
  {
   "cell_type": "code",
   "execution_count": 62,
   "id": "ee31676d",
   "metadata": {},
   "outputs": [
    {
     "name": "stdout",
     "output_type": "stream",
     "text": [
      "-13\n"
     ]
    }
   ],
   "source": [
    "negative_value=-13\n",
    "print(negative_value)"
   ]
  },
  {
   "cell_type": "code",
   "execution_count": 63,
   "id": "e289649e",
   "metadata": {},
   "outputs": [
    {
     "name": "stdout",
     "output_type": "stream",
     "text": [
      "Hello, World!\n"
     ]
    }
   ],
   "source": [
    "greeting=\"Hello, World!\"\n",
    "print(greeting)"
   ]
  },
  {
   "cell_type": "code",
   "execution_count": 78,
   "id": "f04444ec",
   "metadata": {},
   "outputs": [
    {
     "name": "stdout",
     "output_type": "stream",
     "text": [
      "80000000000\n"
     ]
    }
   ],
   "source": [
    "population=int(80e9)\n",
    "print(population)\n"
   ]
  },
  {
   "cell_type": "code",
   "execution_count": 81,
   "id": "61586c90",
   "metadata": {},
   "outputs": [
    {
     "name": "stdout",
     "output_type": "stream",
     "text": [
      "256\n"
     ]
    }
   ],
   "source": [
    "t_2=2**8\n",
    "print(t_2)"
   ]
  },
  {
   "cell_type": "code",
   "execution_count": 84,
   "id": "377b351c",
   "metadata": {},
   "outputs": [
    {
     "name": "stdout",
     "output_type": "stream",
     "text": [
      "['Grapes', 'Blueberries', 'Raspberries', 'Mangoes']\n"
     ]
    }
   ],
   "source": [
    "fruits=[\"Grapes\", \"Blueberries\", \"Raspberries\", \"Mangoes\"]\n",
    "print(fruits)"
   ]
  },
  {
   "cell_type": "code",
   "execution_count": 109,
   "id": "ee415837",
   "metadata": {
    "scrolled": true
   },
   "outputs": [
    {
     "name": "stdout",
     "output_type": "stream",
     "text": [
      "(2, 5, 10)\n"
     ]
    }
   ],
   "source": [
    "coordinates=(2, 5,10)\n",
    "print(coordinates)"
   ]
  },
  {
   "cell_type": "code",
   "execution_count": 111,
   "id": "7790adb0",
   "metadata": {},
   "outputs": [
    {
     "data": {
      "text/plain": [
       "tuple"
      ]
     },
     "execution_count": 111,
     "metadata": {},
     "output_type": "execute_result"
    }
   ],
   "source": [
    "coord=2, 5,10\n",
    "type(coord)"
   ]
  },
  {
   "cell_type": "code",
   "execution_count": 110,
   "id": "8294358c",
   "metadata": {},
   "outputs": [
    {
     "data": {
      "text/plain": [
       "tuple"
      ]
     },
     "execution_count": 110,
     "metadata": {},
     "output_type": "execute_result"
    }
   ],
   "source": [
    "type(coordinates)"
   ]
  },
  {
   "cell_type": "code",
   "execution_count": 87,
   "id": "3565f0e0",
   "metadata": {},
   "outputs": [
    {
     "name": "stdout",
     "output_type": "stream",
     "text": [
      "{'Name': 'Oliver Nalunkuma', 'Age': 123}\n"
     ]
    }
   ],
   "source": [
    "dict={\"Name\":\"Oliver Nalunkuma\", \"Age\": 123}\n",
    "print(dict)"
   ]
  },
  {
   "cell_type": "code",
   "execution_count": 89,
   "id": "0a0d4941",
   "metadata": {},
   "outputs": [
    {
     "name": "stdout",
     "output_type": "stream",
     "text": [
      "{'Name': 'Blure', 'Age': 235, 'City': 'Kampala', 'School': 'AIMS'}\n"
     ]
    }
   ],
   "source": [
    "dict_personal={\"Name\":\"Blure\", \"Age\": 235, \"City\": \"Kampala\", \"School\":\"AIMS\"}\n",
    "print(dict_personal)"
   ]
  },
  {
   "cell_type": "code",
   "execution_count": 91,
   "id": "7a89d688",
   "metadata": {},
   "outputs": [
    {
     "name": "stdout",
     "output_type": "stream",
     "text": [
      "86.28\n"
     ]
    }
   ],
   "source": [
    "f6, f7=43.5, 42.78\n",
    "sum_float=f6+f7\n",
    "print(sum_float)\n"
   ]
  },
  {
   "cell_type": "code",
   "execution_count": 92,
   "id": "44513aaa",
   "metadata": {},
   "outputs": [
    {
     "data": {
      "text/plain": [
       "float"
      ]
     },
     "execution_count": 92,
     "metadata": {},
     "output_type": "execute_result"
    }
   ],
   "source": [
    "type(sum_float)"
   ]
  },
  {
   "cell_type": "code",
   "execution_count": 93,
   "id": "79a66eaf",
   "metadata": {},
   "outputs": [
    {
     "name": "stdout",
     "output_type": "stream",
     "text": [
      "True\n"
     ]
    }
   ],
   "source": [
    "r1,r2=10,5\n",
    "is_sunny=r1>r2\n",
    "print(is_sunny)\n"
   ]
  },
  {
   "cell_type": "code",
   "execution_count": 94,
   "id": "fcd48808",
   "metadata": {},
   "outputs": [
    {
     "name": "stdout",
     "output_type": "stream",
     "text": [
      "14 December\n"
     ]
    }
   ],
   "source": [
    "k10, k11=14, \"December\"\n",
    "print(k10, k11)"
   ]
  },
  {
   "cell_type": "code",
   "execution_count": 95,
   "id": "689afdc8",
   "metadata": {},
   "outputs": [
    {
     "name": "stdout",
     "output_type": "stream",
     "text": [
      "True\n"
     ]
    }
   ],
   "source": [
    "c1=56\n",
    "print(bool(c1))"
   ]
  },
  {
   "cell_type": "code",
   "execution_count": 98,
   "id": "161fa83e",
   "metadata": {},
   "outputs": [
    {
     "name": "stdout",
     "output_type": "stream",
     "text": [
      "False\n"
     ]
    }
   ],
   "source": [
    "l1, l2=3,6\n",
    "result=l1>=l2\n",
    "result\n",
    "is_weekend=result\n",
    "print(is_weekend)"
   ]
  },
  {
   "cell_type": "code",
   "execution_count": 140,
   "id": "53d3e13c",
   "metadata": {
    "scrolled": true
   },
   "outputs": [
    {
     "name": "stdout",
     "output_type": "stream",
     "text": [
      "I love my pet Prettylito\n",
      "What has my pet eaten?\n",
      "Who is looking after it, now.\n"
     ]
    }
   ],
   "source": [
    "n1= \"\"\"I love my pet Prettylito\n",
    "What has my pet eaten?\n",
    "Who is looking after it, now.\"\"\"\n",
    "description=n1\n",
    "print(description)"
   ]
  },
  {
   "cell_type": "code",
   "execution_count": 119,
   "id": "63b4c559",
   "metadata": {},
   "outputs": [
    {
     "name": "stdout",
     "output_type": "stream",
     "text": [
      "25\n"
     ]
    }
   ],
   "source": [
    "v1=-25\n",
    "print(abs(v1))"
   ]
  },
  {
   "cell_type": "code",
   "execution_count": 122,
   "id": "2d0d39d8",
   "metadata": {},
   "outputs": [
    {
     "name": "stdout",
     "output_type": "stream",
     "text": [
      "16\n"
     ]
    }
   ],
   "source": [
    "floor_div_result=100//6\n",
    "print(floor_div_result)"
   ]
  },
  {
   "cell_type": "code",
   "execution_count": 123,
   "id": "a46169e7",
   "metadata": {},
   "outputs": [
    {
     "name": "stdout",
     "output_type": "stream",
     "text": [
      "64.06\n"
     ]
    }
   ],
   "source": [
    "n_1,n_2, n_3=23.6, 28.46, 12\n",
    "mixed_sum=n_1+n_2+n_3\n",
    "print(mixed_sum)"
   ]
  },
  {
   "cell_type": "code",
   "execution_count": 124,
   "id": "e6b0da3d",
   "metadata": {},
   "outputs": [
    {
     "data": {
      "text/plain": [
       "float"
      ]
     },
     "execution_count": 124,
     "metadata": {},
     "output_type": "execute_result"
    }
   ],
   "source": [
    "type(mixed_sum)"
   ]
  },
  {
   "cell_type": "code",
   "execution_count": 125,
   "id": "1fe49090",
   "metadata": {},
   "outputs": [
    {
     "name": "stdout",
     "output_type": "stream",
     "text": [
      "False\n"
     ]
    }
   ],
   "source": [
    "a,b=10,15\n",
    "print(a>b)"
   ]
  },
  {
   "cell_type": "code",
   "execution_count": 126,
   "id": "c3acc467",
   "metadata": {},
   "outputs": [
    {
     "name": "stdout",
     "output_type": "stream",
     "text": [
      "True\n"
     ]
    }
   ],
   "source": [
    "print(a<b)"
   ]
  },
  {
   "cell_type": "code",
   "execution_count": 127,
   "id": "3d00f646",
   "metadata": {},
   "outputs": [
    {
     "data": {
      "text/plain": [
       "21"
      ]
     },
     "execution_count": 127,
     "metadata": {},
     "output_type": "execute_result"
    }
   ],
   "source": [
    "my_father=\"SserunkumaBbosaJoseph\"\n",
    "len(my_father)"
   ]
  },
  {
   "cell_type": "code",
   "execution_count": 129,
   "id": "0de0e0e7",
   "metadata": {},
   "outputs": [
    {
     "data": {
      "text/plain": [
       "2.3333333333333335"
      ]
     },
     "execution_count": 129,
     "metadata": {},
     "output_type": "execute_result"
    }
   ],
   "source": [
    "division_result=7/3\n",
    "division_result"
   ]
  },
  {
   "cell_type": "code",
   "execution_count": 137,
   "id": "f9aa6732",
   "metadata": {},
   "outputs": [
    {
     "name": "stdout",
     "output_type": "stream",
     "text": [
      "100 kilometers per hour\n"
     ]
    }
   ],
   "source": [
    "speed=\"100 kilometers per hour\"\n",
    "print(speed)\n"
   ]
  },
  {
   "cell_type": "code",
   "execution_count": 149,
   "id": "20b582f4",
   "metadata": {},
   "outputs": [
    {
     "name": "stdout",
     "output_type": "stream",
     "text": [
      "17\n"
     ]
    }
   ],
   "source": [
    "y, x = 3*x+5, 4\n",
    "\n",
    "print(y)"
   ]
  },
  {
   "cell_type": "code",
   "execution_count": 151,
   "id": "f64703e5",
   "metadata": {},
   "outputs": [
    {
     "name": "stdout",
     "output_type": "stream",
     "text": [
      "8.0\n"
     ]
    }
   ],
   "source": [
    "x9=e1, e2, e3=(4,8,12)\n",
    "av=(e1+e2+e3)/len(x9)\n",
    "print(av)"
   ]
  },
  {
   "cell_type": "code",
   "execution_count": null,
   "id": "1c2aa34a",
   "metadata": {},
   "outputs": [],
   "source": []
  },
  {
   "cell_type": "code",
   "execution_count": null,
   "id": "8f237f4d",
   "metadata": {},
   "outputs": [],
   "source": []
  }
 ],
 "metadata": {
  "kernelspec": {
   "display_name": "Python 3",
   "language": "python",
   "name": "python3"
  },
  "language_info": {
   "codemirror_mode": {
    "name": "ipython",
    "version": 3
   },
   "file_extension": ".py",
   "mimetype": "text/x-python",
   "name": "python",
   "nbconvert_exporter": "python",
   "pygments_lexer": "ipython3",
   "version": "3.9.2"
  }
 },
 "nbformat": 4,
 "nbformat_minor": 5
}
